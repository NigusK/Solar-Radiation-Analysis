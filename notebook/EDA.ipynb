{
 "cells": [
  {
   "cell_type": "code",
   "execution_count": 1,
   "metadata": {},
   "outputs": [],
   "source": [
    "import pandas as pd\n",
    "import os\n",
    "notebook_dir = os.getcwd()\n",
    "parent_path=os.path.dirname(notebook_dir)\n",
    "\n",
    "os.chdir(parent_path)"
   ]
  },
  {
   "cell_type": "markdown",
   "metadata": {},
   "source": [
    "### Load data"
   ]
  },
  {
   "cell_type": "code",
   "execution_count": null,
   "metadata": {},
   "outputs": [],
   "source": [
    "df_benin =pd.read_csv('data/benin-malanville.csv')\n",
    "df_sierraleone =pd.read_csv('data/sierraleone-bumbuna.csv')\n",
    "df_togo =pd.read_csv('data/togo-dapaong_qc.csv')"
   ]
  },
  {
   "cell_type": "markdown",
   "metadata": {},
   "source": [
    "### Import Modules"
   ]
  },
  {
   "cell_type": "code",
   "execution_count": 4,
   "metadata": {},
   "outputs": [],
   "source": [
    "from script.EDA import EDA\n",
    "analysys=EDA()"
   ]
  },
  {
   "cell_type": "markdown",
   "metadata": {},
   "source": [
    "### Check Missing Data"
   ]
  },
  {
   "cell_type": "code",
   "execution_count": 6,
   "metadata": {},
   "outputs": [
    {
     "data": {
      "text/plain": [
       "Timestamp             0\n",
       "GHI                   0\n",
       "DNI                   0\n",
       "DHI                   0\n",
       "ModA                  0\n",
       "ModB                  0\n",
       "Tamb                  0\n",
       "RH                    0\n",
       "WS                    0\n",
       "WSgust                0\n",
       "WSstdev               0\n",
       "WD                    0\n",
       "WDstdev               0\n",
       "BP                    0\n",
       "Cleaning              0\n",
       "Precipitation         0\n",
       "TModA                 0\n",
       "TModB                 0\n",
       "Comments         525600\n",
       "dtype: int64"
      ]
     },
     "execution_count": 6,
     "metadata": {},
     "output_type": "execute_result"
    }
   ],
   "source": [
    "#check missing values in each column\n",
    "analysys.check_missing_value(df_benin)"
   ]
  },
  {
   "cell_type": "code",
   "execution_count": 7,
   "metadata": {},
   "outputs": [
    {
     "data": {
      "text/plain": [
       "Timestamp             0\n",
       "GHI                   0\n",
       "DNI                   0\n",
       "DHI                   0\n",
       "ModA                  0\n",
       "ModB                  0\n",
       "Tamb                  0\n",
       "RH                    0\n",
       "WS                    0\n",
       "WSgust                0\n",
       "WSstdev               0\n",
       "WD                    0\n",
       "WDstdev               0\n",
       "BP                    0\n",
       "Cleaning              0\n",
       "Precipitation         0\n",
       "TModA                 0\n",
       "TModB                 0\n",
       "Comments         525600\n",
       "dtype: int64"
      ]
     },
     "execution_count": 7,
     "metadata": {},
     "output_type": "execute_result"
    }
   ],
   "source": [
    "analysys.check_missing_value(df_sierraleone)"
   ]
  },
  {
   "cell_type": "code",
   "execution_count": 8,
   "metadata": {},
   "outputs": [
    {
     "data": {
      "text/plain": [
       "Timestamp             0\n",
       "GHI                   0\n",
       "DNI                   0\n",
       "DHI                   0\n",
       "ModA                  0\n",
       "ModB                  0\n",
       "Tamb                  0\n",
       "RH                    0\n",
       "WS                    0\n",
       "WSgust                0\n",
       "WSstdev               0\n",
       "WD                    0\n",
       "WDstdev               0\n",
       "BP                    0\n",
       "Cleaning              0\n",
       "Precipitation         0\n",
       "TModA                 0\n",
       "TModB                 0\n",
       "Comments         525600\n",
       "dtype: int64"
      ]
     },
     "execution_count": 8,
     "metadata": {},
     "output_type": "execute_result"
    }
   ],
   "source": [
    "analysys.check_missing_value(df_togo)"
   ]
  },
  {
   "cell_type": "markdown",
   "metadata": {},
   "source": [
    "### Removing negative values\n",
    "Since the negative values have no meaning and they are the result of measurement errors , they should be replaced with zero"
   ]
  },
  {
   "cell_type": "code",
   "execution_count": 9,
   "metadata": {},
   "outputs": [],
   "source": [
    "#Replacing negative values in 'GHI', 'DNI', 'DHI' with zero since they are measuremet errors\n",
    "df_benin_cleaned=analysys.replace_nagative_values(df_benin)\n",
    "df_sierraleone_cleaned=analysys.replace_nagative_values(df_sierraleone)\n",
    "df_togo_cleaned=analysys.replace_nagative_values(df_togo)"
   ]
  },
  {
   "cell_type": "markdown",
   "metadata": {},
   "source": [
    "### Summary Statistics"
   ]
  },
  {
   "cell_type": "code",
   "execution_count": 10,
   "metadata": {},
   "outputs": [],
   "source": [
    "df_benin_cleaned=analysys.outliers_fun(df_benin_cleaned,['ModA', 'ModB','WS', 'WSgust'])\n",
    "df_sierraleone_cleaned=analysys.outliers_fun(df_sierraleone_cleaned,['ModA', 'ModB','WS', 'WSgust'])\n",
    "df_togo_cleaned=analysys.outliers_fun(df_togo_cleaned,['ModA', 'ModB','WS', 'WSgust'])"
   ]
  }
 ],
 "metadata": {
  "kernelspec": {
   "display_name": ".venv",
   "language": "python",
   "name": "python3"
  },
  "language_info": {
   "codemirror_mode": {
    "name": "ipython",
    "version": 3
   },
   "file_extension": ".py",
   "mimetype": "text/x-python",
   "name": "python",
   "nbconvert_exporter": "python",
   "pygments_lexer": "ipython3",
   "version": "3.12.5"
  }
 },
 "nbformat": 4,
 "nbformat_minor": 2
}
